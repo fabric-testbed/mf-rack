{
 "cells": [
  {
   "cell_type": "markdown",
   "id": "a77b54ff",
   "metadata": {},
   "source": [
    "# mf-rack\n",
    "## Installing to a Fabric rack\n",
    "\n",
    "This notebook assumes that the \"ansible control node\" has been setup following the instructions found at https://fabric-testbed.atlassian.net/wiki/spaces/FP/pages/376930350/MF+Prometheus+Deployment#Ansible-control-node\n",
    "\n",
    "This notebook can be run on that node.\n",
    "\n",
    "This notebook can be used for installation to any fabric rack, however it should be mainly used for testing. The fabric operations will handle the installations to production racks.\n",
    "\n",
    "Note: values enclosed with greater than and less than brackets, ```<sometext>```,  need to be replaced to suit your setup."
   ]
  },
  {
   "cell_type": "markdown",
   "id": "4f63026a",
   "metadata": {},
   "source": [
    "# Set the vault password file location\n",
    "The installation requires ansible hosts and variable files found in the https://github.com/fabric-testbed/fabric-deployment repository.\n",
    "To access the encrpyted ansible vaults you must use the vault password found in 1Password. You can place the password in a text file to be recalled later. You may also use ``` --ask-vault-pass``` later to prevent having the password saved in a file."
   ]
  },
  {
   "cell_type": "code",
   "execution_count": null,
   "id": "e4875084",
   "metadata": {},
   "outputs": [],
   "source": [
    "export VAULT_PASSWORD_FILENAME=</your_monitoring_deploy_vault_password_filnamee>"
   ]
  },
  {
   "cell_type": "markdown",
   "id": "24540d50-0ed5-41d7-9a00-449a13c76a8a",
   "metadata": {},
   "source": [
    "# Activate python virtual environment\n",
    "It is good to create a virtual python environment for running this note book. You may use whatever python virtual enviroment tool you would like. \n",
    "Here I am using conda.\n"
   ]
  },
  {
   "cell_type": "code",
   "execution_count": null,
   "id": "32f1e4e3-449f-4972-9149-25db61d39142",
   "metadata": {},
   "outputs": [],
   "source": [
    "conda activate <your_mf_virtual_env_name>"
   ]
  },
  {
   "cell_type": "markdown",
   "id": "56c6ee85-c6fb-419c-9d4f-5c7e4191c37f",
   "metadata": {},
   "source": [
    "# Set Working Directory\n",
    "The mf-rack github repository needs to be cloned to the ansible control node. fabric-deployment and mf-parsers will also be used to add some files to the cloned repository.\n",
    "cd into the directory."
   ]
  },
  {
   "cell_type": "code",
   "execution_count": null,
   "id": "b26f10c7-7584-4d17-8745-4b3fb033d489",
   "metadata": {},
   "outputs": [],
   "source": [
    "\n",
    "export MF_WORKING_DIR=<the directory where the mf-rack, fabric-deployment and mf-parsers repositories will be cloned>\n",
    "mkdir -p $MF_WORKING_DIR\n",
    "cd $MF_WORKING_DIR"
   ]
  },
  {
   "cell_type": "markdown",
   "id": "59c38378",
   "metadata": {},
   "source": [
    "# Clone Deployment Repo"
   ]
  },
  {
   "cell_type": "code",
   "execution_count": null,
   "id": "544102bd",
   "metadata": {},
   "outputs": [],
   "source": [
    "cd $MF_WORKING_DIR\n",
    "git clone git@github.com:fabric-testbed/mf-rack.git"
   ]
  },
  {
   "cell_type": "markdown",
   "id": "76862f77-8b29-4d47-a8a3-77c0959d2a07",
   "metadata": {},
   "source": [
    "# Switch Working Dir to Ansible"
   ]
  },
  {
   "cell_type": "code",
   "execution_count": null,
   "id": "e67de7fd-a9f8-4cf9-adbf-7d28426d4994",
   "metadata": {},
   "outputs": [],
   "source": [
    "cd mf-rack/instrumentize/ansible"
   ]
  },
  {
   "cell_type": "markdown",
   "id": "4d2e4c22-e250-47a1-975f-d3d7a853896c",
   "metadata": {},
   "source": [
    "# Switch to Desired Branch"
   ]
  },
  {
   "cell_type": "code",
   "execution_count": null,
   "id": "c2b7a4eb-19ca-46cf-958e-3059e17db973",
   "metadata": {},
   "outputs": [],
   "source": [
    "export BRANCH=<release_branch being deployed>\n",
    "git checkout $BRANCH"
   ]
  },
  {
   "cell_type": "code",
   "execution_count": null,
   "id": "9440b48a-b2e6-4ba8-9243-abbb9f24a0fe",
   "metadata": {},
   "outputs": [],
   "source": [
    "git pull"
   ]
  },
  {
   "cell_type": "markdown",
   "id": "7bb45702",
   "metadata": {},
   "source": [
    "# Get Hosts & Vars from deployment repo\n",
    "This step clones the fabric-deployent repo and copies the needed files in to the mf-rack directory"
   ]
  },
  {
   "cell_type": "code",
   "execution_count": null,
   "id": "1d9fa429",
   "metadata": {},
   "outputs": [],
   "source": [
    "export FABRIC_DEPLOYMENT_BRANCH=public-metric-additions\n",
    "ansible-playbook playbook_get_fabric_deployment_files.yml --extra-vars \"fabric_deployment_repo_version=$FABRIC_DEPLOYMENT_BRANCH\""
   ]
  },
  {
   "cell_type": "markdown",
   "id": "16f88f0f-c5b8-48dc-be07-c16c2ae04db9",
   "metadata": {},
   "source": [
    "# Create Ansible Config File with Vault Info\n",
    "If you are entering the password for each run, delete the ```vault_password_file = $VAULT_PASSWORD_FILENAME``` text in the configuration file creation below (be sure to leave the ending quotation mark."
   ]
  },
  {
   "cell_type": "code",
   "execution_count": null,
   "id": "333db047",
   "metadata": {},
   "outputs": [],
   "source": [
    "\n",
    "if [[ -f \"ansible.cfg\" ]]; then\n",
    "    echo \"Config File Already Exists\"\n",
    "else\n",
    "\n",
    "    echo \"[defaults] \n",
    "host_key_checking = False\n",
    "deprecation_warnings=False  \n",
    "callbacks_enabled = profile_tasks\n",
    "vault_password_file = $VAULT_PASSWORD_FILENAME\" \\\n",
    "> ansible.cfg\n",
    "\n",
    "\n",
    "echo \"Created Config File\"\n",
    "\n",
    "\n",
    "fi"
   ]
  },
  {
   "cell_type": "markdown",
   "id": "d5db8ac9-e614-452f-ba98-074c3ab8d741",
   "metadata": {},
   "source": [
    "## Set Rack To Install\n",
    "Set the name of the rack to install. The racks renc, uky and lbnl are currently the dev racks."
   ]
  },
  {
   "cell_type": "code",
   "execution_count": null,
   "id": "1267bdc3-27f4-4425-9880-ea278195aca1",
   "metadata": {},
   "outputs": [],
   "source": [
    "export RACK_TO_INSTALL=<rack sitename>"
   ]
  },
  {
   "cell_type": "markdown",
   "id": "fa696220",
   "metadata": {},
   "source": [
    "# Install\n",
    "The first time the install script is run, it will clone the mf-parsers github repository and copy the needed configuration files to the cloned mf-rack directory.\n",
    "To save time on subsequent runs, add the ```--skip-tags clone_mf_parsers``` to prevent repeating the downloading."
   ]
  },
  {
   "cell_type": "code",
   "execution_count": null,
   "id": "e0015575-3664-4cd8-8a44-064afbb80899",
   "metadata": {},
   "outputs": [],
   "source": [
    "echo \"This will install Prommetheus Mpnitoring System to rack ---$RACK_TO_INSTALL---\""
   ]
  },
  {
   "cell_type": "code",
   "execution_count": null,
   "id": "04511a20",
   "metadata": {},
   "outputs": [],
   "source": [
    "# note if --tags then ony tagged sections will be executed:\n",
    "# --skip-tags clone_mf_parsers  will skip tagged sections matching name, and execute all other sections\n",
    "# other command line options:\n",
    "# --check can be added to check the install without actually performing the install\n",
    "#  --ask-vault-pass will ask for the password for each run\n",
    "ansible-playbook -i tmp_deployment_files/fabric-hosts playbook_fabric_rack_prometheus_install.yml --extra-vars \"rack_to_install=$RACK_TO_INSTALL\"\n"
   ]
  },
  {
   "cell_type": "code",
   "execution_count": null,
   "id": "59c223a0-58f1-478a-8607-ca66ad627dcd",
   "metadata": {},
   "outputs": [],
   "source": []
  }
 ],
 "metadata": {
  "kernelspec": {
   "display_name": "Bash",
   "language": "bash",
   "name": "bash"
  },
  "language_info": {
   "codemirror_mode": "shell",
   "file_extension": ".sh",
   "mimetype": "text/x-sh",
   "name": "bash"
  }
 },
 "nbformat": 4,
 "nbformat_minor": 5
}
